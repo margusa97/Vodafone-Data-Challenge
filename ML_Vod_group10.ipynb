{
 "cells": [
  {
   "cell_type": "markdown",
   "metadata": {},
   "source": [
    "# Vodafone Challenge\n",
    "## Scrap notebook\n",
    "- **Separate each test** you make with a markdown cell like this one (press M when the cursor is on a cell but it is not editing). \n",
    "- Put a **small description** on what you are doing and why you do so (like if you manipulate data in a specific way, or apply a particular definition of distance, write the intuition behind. Both for you to remmember later and for team members)\n",
    "- Make sure you are working with the **proper data** i.e. the data (and their transformation) that you with to use are defined before you do the analysis. Bugs could appear if you do not define something and Python retrieves older values for the variables you are using.\n",
    "- **Do not modify df_backup**, always work with a copy [like df = df_backup.copy()]\n",
    "- Add short line of description in the Summary section\n",
    "- For each test, write briefly which value of the parameter tried (like learning rate constant, tried eta0 large (10^-2) not well, smaller (10^-7) seem to work best. Then changed with learning rate adaptivive [which?] and tried ... large (10^-2) worked best).\n",
    "\n",
    "**For the best test, build pipeline: bulleted version of all things done on the dataset until the result. It could be a useful thing to do for each test actually**"
   ]
  },
  {
   "cell_type": "markdown",
   "metadata": {},
   "source": [
    "## Summary\n",
    "\n",
    "1. **K-means on traffic data**: description of the test (briefly, just to quickly know what tryed already)\n",
    "2. **Sample 2**: ..."
   ]
  },
  {
   "cell_type": "markdown",
   "metadata": {},
   "source": [
    "## Code\n",
    "### *setup*"
   ]
  },
  {
   "cell_type": "code",
   "execution_count": 2,
   "metadata": {
    "collapsed": true
   },
   "outputs": [],
   "source": [
    "%matplotlib inline\n",
    "\n",
    "import pandas as pd\n",
    "import numpy as np\n",
    "import matplotlib.pyplot as plt\n",
    "\n",
    "from sklearn.neighbors import KNeighborsClassifier\n",
    "from sklearn.decomposition import PCA\n",
    "\n",
    "pd.set_option('display.max_columns', None)"
   ]
  },
  {
   "cell_type": "code",
   "execution_count": 3,
   "metadata": {
    "collapsed": true
   },
   "outputs": [],
   "source": [
    "df_backup = pd.read_csv('dataset_challenge_v5.TRAINING.csv')"
   ]
  },
  {
   "cell_type": "markdown",
   "metadata": {},
   "source": [
    "### Baldassi's Cleaning\n",
    "**DeviceOperatingSystem**: I preferred not to create a specific category for 'windows' because too few observations, however, if the 'other' category reveals to explain well, we can unpack it (in a new dataset)"
   ]
  },
  {
   "cell_type": "code",
   "execution_count": 36,
   "metadata": {
    "collapsed": false
   },
   "outputs": [
    {
     "name": "stdout",
     "output_type": "stream",
     "text": [
      "{'iOS': 568, nan: 548, 'Android': 858, 'Windows Mobile': 6, 'Proprietary': 5, 'Windows Phone': 7, 'BlackBerry OS': 1, 'Firefox': 1, 'Symbian^3': 1, 'BREW': 1, 'Series 40': 2, 'BB10': 1, 'VRTXmc': 1}\n"
     ]
    }
   ],
   "source": [
    "df_clean = df_backup.copy()\n",
    "\n",
    "del df_clean['Unnamed: 0']\n",
    "\n",
    "c = list(df_clean.columns)\n",
    "c[0] = 'ID'\n",
    "df_clean.columns = c\n",
    "\n",
    "df_clean['ZipCode'] = df_clean['ZipCode'].map(lambda x: '%05i' % x, na_action='ignore')\n",
    "\n",
    "traffic_columns = ['File-Transfer', 'Games',\n",
    "       'Instant-Messaging-Applications', 'Mail', 'Music-Streaming',\n",
    "       'Network-Operation', 'P2P-Applications', 'Security',\n",
    "       'Streaming-Applications', 'Terminals', 'Unclassified', 'VoIP',\n",
    "       'Web-Applications']\n",
    "df_clean[traffic_columns]\n",
    "\n",
    "cats = df_clean['CustomerAge'].astype('category').cat.categories\n",
    "d = {cat:(15+10*i)/100 for i,cat in enumerate(cats)}\n",
    "df_clean['NumericAge'] = df_clean['CustomerAge'].map(lambda x: d[x], na_action='ignore')\n",
    "\n",
    "d = {}\n",
    "for elem in df_clean['DeviceOperatingSystem']:\n",
    "    d[elem] = d.get(elem, 0) + 1\n",
    "print(d) #some categories have very few values, group them\n",
    "OS_other = []\n",
    "for key in d:\n",
    "    if d[key] < 10:\n",
    "        OS_other.append(key)\n",
    "        d[key] = 'other'\n",
    "    else:\n",
    "        d[key] = key\n",
    "df_clean['OS_clean'] = df_clean['DeviceOperatingSystem'].map(lambda x: d[x], na_action='ignore')"
   ]
  },
  {
   "cell_type": "markdown",
   "metadata": {},
   "source": [
    "### Class definition and useful dependencies\n",
    "Space that collects classes or function definition that come in handy throughtout the project"
   ]
  },
  {
   "cell_type": "code",
   "execution_count": 41,
   "metadata": {
    "collapsed": true
   },
   "outputs": [],
   "source": [
    "class buildTrain():\n",
    "    def __init__(self, X, y, perc=0.8, seed=None):\n",
    "        if seed is not None:\n",
    "            np.random.seed(seed)\n",
    "        n_data, n_features = X.shape\n",
    "        assert n_data == len(y)\n",
    "        \n",
    "        perm = np.random.permutation(n_data)\n",
    "        n_train = int(n_data * perc)\n",
    "        train_mask = perm[:n_train]\n",
    "        valid_mask = perm[n_train:]\n",
    "        \n",
    "        assert (len(train_mask)+len(valid_mask)) == n_data\n",
    "        \n",
    "        train_data = X[train_mask]\n",
    "        train_target = y[train_mask]\n",
    "        valid_data = X[valid_mask]\n",
    "        valid_target = y[valid_mask]\n",
    "        assert (len(train_data)+len(valid_data)) == n_data\n",
    "        \n",
    "        self.Xt = train_data\n",
    "        self.yt = train_target\n",
    "        self.Xv = valid_data\n",
    "        self.yv = valid_target\n",
    "        \n",
    "    def get_train(self):\n",
    "        return self.Xt, self.yt\n",
    "    \n",
    "    def get_valid(self):\n",
    "        return self.Xv, self.yv"
   ]
  },
  {
   "cell_type": "code",
   "execution_count": 136,
   "metadata": {
    "collapsed": false
   },
   "outputs": [],
   "source": [
    "def check_clusters(y, clust_labels, img_threshold=15):\n",
    "    #checks input\n",
    "    if y.ndim != 1: \n",
    "        raise Exception(2)\n",
    "    if len(y) != len(clust_labels):\n",
    "        raise Exception(4)\n",
    "        \n",
    "    #build histogram of categories (how many point for each cat)\n",
    "    cats = {}\n",
    "    for i in y:\n",
    "        cats[i] = cats.get(i, 0) + 1\n",
    "    n_cats = len(cats)\n",
    "    \n",
    "    #build histogram of clusters (how many point in each cluster)\n",
    "    clusters = {}\n",
    "    for i in clust_labels:\n",
    "        clusters[i] = clusters.get(i, 0) + 1\n",
    "    n_clusters = len(clusters)\n",
    "        \n",
    "    #create mapping from categories to index (to easily store data)\n",
    "    #done because we assume y's values can be different from range(n_categories)\n",
    "    #cat_list useful to quickly go back (header of result matrix)\n",
    "    cat_map = {}\n",
    "    cat_list = []\n",
    "    for i, cat in enumerate(cats):\n",
    "        cat_map[cat] = i\n",
    "        cat_list.append(cat)\n",
    "    \n",
    "    #for each cluster, computes proportion of point belonging to each category\n",
    "    result = np.zeros((n_clusters, n_cats))\n",
    "    tot_per_clust = np.zeros((n_clusters,1), dtype=int)\n",
    "    for i, clust in enumerate(clusters):\n",
    "        labels = y[clust_labels == clust]\n",
    "        tot_per_clust[i] = clusters[clust]\n",
    "        for cat in labels:\n",
    "            result[i,cat_map[cat]] += 1\n",
    "            \n",
    "    #to compute percentage of category points\n",
    "    perc_cat = []\n",
    "    for clust in range(len(result)):\n",
    "        i_max = np.argmax(result[clust,:])\n",
    "        tot = cats[cat_list[i_max]]\n",
    "        perc_cat.append(result[clust, i_max] / tot * 100)\n",
    "    \n",
    "    #express each value as a proportion (normalization)\n",
    "    result = result / tot_per_clust * 100\n",
    "    \n",
    "    #show graphical representation if matrix not too big\n",
    "    if n_cats < img_threshold and n_clusters < img_threshold:\n",
    "        plt.imshow(result)\n",
    "        \n",
    "    #for each cluster show the category that fits it best\n",
    "    for i,value in enumerate(np.argmax(result, axis=1)):\n",
    "        #frequency of category: number of datapoint of a specific category belonging to that cluster\n",
    "        #over the number of points in the cluster (variety within cluster)\n",
    "        #category clustering: number of datapoint of a specific category belonging to that cluster,\n",
    "        #over the total number of points of that category\n",
    "        print('cluster: %s --> top category: %s, frequency of category (variety within cluster): %.2f%%, category clustering: %.2f%%'\\\n",
    "              % (i, cat_list[value], result[i, value], perc_cat[i]))\n",
    "    score = np.sum(np.max(result, axis=1))/n_clusters\n",
    "    #maybe it's best to weight the score by the category clustering index (see k-means example below)\n",
    "    print(\"Overall score (doesn't consider category clustering): %.2f%%\"%(score))\n",
    "    return score"
   ]
  },
  {
   "cell_type": "code",
   "execution_count": 91,
   "metadata": {
    "collapsed": true
   },
   "outputs": [],
   "source": [
    "def standardize(df, column):\n",
    "    if not isinstance(column, (str, int)):\n",
    "        raise Exception(1)\n",
    "    #returns a copy of the standardized column\n",
    "    c = df[column].copy()\n",
    "    mean = c.mean()\n",
    "    sd = c.std()\n",
    "    return (c - mean) / sd"
   ]
  },
  {
   "cell_type": "code",
   "execution_count": 112,
   "metadata": {
    "collapsed": true
   },
   "outputs": [],
   "source": [
    "def batch_std(df, columns):\n",
    "    if not isinstance(columns, str):\n",
    "        if len(columns) == 0:\n",
    "            raise Exception('nto enough columns')\n",
    "    else:\n",
    "        raise Exception('must be an array or list')\n",
    "    #returns a new dataframe with standardized columns\n",
    "    new_df = pd.DataFrame()\n",
    "    for column in columns:\n",
    "        temp = standardize(df, column)\n",
    "        new_df[column] = temp\n",
    "    return new_df"
   ]
  },
  {
   "cell_type": "markdown",
   "metadata": {},
   "source": [
    "## Tests"
   ]
  },
  {
   "cell_type": "markdown",
   "metadata": {},
   "source": [
    "### K-means on traffic\n",
    "Just an exploratory study, let's see what we get..."
   ]
  },
  {
   "cell_type": "code",
   "execution_count": 126,
   "metadata": {
    "collapsed": false
   },
   "outputs": [
    {
     "name": "stdout",
     "output_type": "stream",
     "text": [
      "cluster: 0 --> top category: V-Bag, frequency of category (variety within cluster): 39.88%, category clustering: 17.57%\n",
      "cluster: 1 --> top category: V-Bag, frequency of category (variety within cluster): 36.54%, category clustering: 40.00%\n",
      "cluster: 2 --> top category: V-Bag, frequency of category (variety within cluster): 35.88%, category clustering: 29.19%\n",
      "cluster: 3 --> top category: V-Bag, frequency of category (variety within cluster): 37.40%, category clustering: 13.24%\n",
      "Overall score (doesn't consider category clustering): 37.43%\n"
     ]
    },
    {
     "data": {
      "image/png": "[encoded data removed]",
      "text/plain": [
       "<matplotlib.figure.Figure at 0x13326eb3c50>"
      ]
     },
     "metadata": {},
     "output_type": "display_data"
    }
   ],
   "source": [
    "from sklearn.cluster import KMeans\n",
    "\n",
    "X = df_clean[traffic_columns]\n",
    "y = df_clean['Product']\n",
    "\n",
    "km = KMeans(n_clusters=4, init='k-means++', n_init=10, n_jobs=4)\n",
    "km.fit(X)\n",
    "score = check_clusters(y=y, clust_labels=km.labels_)"
   ]
  },
  {
   "cell_type": "markdown",
   "metadata": {},
   "source": [
    "now we try the same but with standardized columns, see the difference"
   ]
  },
  {
   "cell_type": "code",
   "execution_count": 130,
   "metadata": {
    "collapsed": false
   },
   "outputs": [
    {
     "name": "stdout",
     "output_type": "stream",
     "text": [
      "cluster: 0 --> top category: V-Bag, frequency of category (variety within cluster): 36.57%, category clustering: 32.03%\n",
      "cluster: 1 --> top category: V-Bag, frequency of category (variety within cluster): 36.75%, category clustering: 58.65%\n",
      "cluster: 2 --> top category: V-Bag, frequency of category (variety within cluster): 40.72%, category clustering: 9.19%\n",
      "cluster: 3 --> top category: V-Pet, frequency of category (variety within cluster): 50.00%, category clustering: 0.31%\n",
      "Overall score (doesn't consider category clustering): 41.01%\n"
     ]
    },
    {
     "data": {
      "image/png": "[encoded data removed]",
      "text/plain": [
       "<matplotlib.figure.Figure at 0x13326e8b780>"
      ]
     },
     "metadata": {},
     "output_type": "display_data"
    }
   ],
   "source": [
    "X_std = batch_std(df_clean, traffic_columns)\n",
    "y = df_clean['Product']\n",
    "\n",
    "km = KMeans(n_clusters=4, init='k-means++', n_init=10, n_jobs=4)\n",
    "km.fit(X_std)\n",
    "score = check_clusters(y=y, clust_labels=km.labels_)"
   ]
  },
  {
   "cell_type": "markdown",
   "metadata": {},
   "source": [
    "It seems to have improved. Still the clusters seem to separate pretty poorly. Let's see the optimal value of k based on our previous score (using standardized data which seem to make more sense). We set the same seed each time so that the results are comparable and not influenced by different initial centroid allocation."
   ]
  },
  {
   "cell_type": "code",
   "execution_count": 134,
   "metadata": {
    "collapsed": false,
    "scrolled": false
   },
   "outputs": [
    {
     "name": "stdout",
     "output_type": "stream",
     "text": [
      "cluster: 0 --> top category: V-Bag, frequency of category (variety within cluster): 36.43%, category clustering: 32.84%\n",
      "cluster: 1 --> top category: V-Bag, frequency of category (variety within cluster): 37.28%, category clustering: 67.16%\n",
      "Overall score (doesn't consider category clustering): 36.86%\n",
      "cluster: 0 --> top category: V-Bag, frequency of category (variety within cluster): 37.20%, category clustering: 31.62%\n",
      "cluster: 1 --> top category: V-Bag, frequency of category (variety within cluster): 37.16%, category clustering: 56.89%\n",
      "cluster: 2 --> top category: V-Bag, frequency of category (variety within cluster): 35.71%, category clustering: 11.49%\n",
      "Overall score (doesn't consider category clustering): 36.69%\n",
      "cluster: 0 --> top category: V-Bag, frequency of category (variety within cluster): 36.94%, category clustering: 30.00%\n",
      "cluster: 1 --> top category: V-Bag, frequency of category (variety within cluster): 36.62%, category clustering: 53.65%\n",
      "cluster: 2 --> top category: V-Bag, frequency of category (variety within cluster): 38.46%, category clustering: 16.22%\n",
      "cluster: 3 --> top category: V-Bag, frequency of category (variety within cluster): 33.33%, category clustering: 0.14%\n",
      "Overall score (doesn't consider category clustering): 36.34%\n",
      "cluster: 0 --> top category: V-Bag, frequency of category (variety within cluster): 36.59%, category clustering: 29.86%\n",
      "cluster: 1 --> top category: V-Bag, frequency of category (variety within cluster): 36.81%, category clustering: 58.65%\n",
      "cluster: 2 --> top category: V-Bag, frequency of category (variety within cluster): 37.33%, category clustering: 7.57%\n",
      "cluster: 3 --> top category: V-Bag, frequency of category (variety within cluster): 43.08%, category clustering: 3.78%\n",
      "cluster: 4 --> top category: V-Bag, frequency of category (variety within cluster): 50.00%, category clustering: 0.14%\n",
      "Overall score (doesn't consider category clustering): 40.76%\n",
      "cluster: 0 --> top category: V-Bag, frequency of category (variety within cluster): 36.79%, category clustering: 29.73%\n",
      "cluster: 1 --> top category: V-Bag, frequency of category (variety within cluster): 36.62%, category clustering: 55.68%\n",
      "cluster: 2 --> top category: V-Bag, frequency of category (variety within cluster): 39.58%, category clustering: 7.70%\n",
      "cluster: 3 --> top category: V-Bag, frequency of category (variety within cluster): 37.98%, category clustering: 6.62%\n",
      "cluster: 4 --> top category: V-Bag, frequency of category (variety within cluster): 33.33%, category clustering: 0.14%\n",
      "cluster: 5 --> top category: V-Bag, frequency of category (variety within cluster): 100.00%, category clustering: 0.14%\n",
      "Overall score (doesn't consider category clustering): 47.39%\n",
      "cluster: 0 --> top category: V-Bag, frequency of category (variety within cluster): 37.02%, category clustering: 29.86%\n",
      "cluster: 1 --> top category: V-Bag, frequency of category (variety within cluster): 36.60%, category clustering: 9.59%\n",
      "cluster: 2 --> top category: V-Bag, frequency of category (variety within cluster): 36.68%, category clustering: 56.35%\n",
      "cluster: 3 --> top category: V-Bag, frequency of category (variety within cluster): 39.06%, category clustering: 3.38%\n",
      "cluster: 4 --> top category: V-Bag, frequency of category (variety within cluster): 33.33%, category clustering: 0.14%\n",
      "cluster: 5 --> top category: V-Bag, frequency of category (variety within cluster): 100.00%, category clustering: 0.54%\n",
      "cluster: 6 --> top category: V-Bag, frequency of category (variety within cluster): 100.00%, category clustering: 0.14%\n",
      "Overall score (doesn't consider category clustering): 54.67%\n",
      "cluster: 0 --> top category: V-Bag, frequency of category (variety within cluster): 36.86%, category clustering: 29.19%\n",
      "cluster: 1 --> top category: V-Bag, frequency of category (variety within cluster): 36.99%, category clustering: 7.30%\n",
      "cluster: 2 --> top category: V-Bag, frequency of category (variety within cluster): 36.32%, category clustering: 53.11%\n",
      "cluster: 3 --> top category: V-Pet, frequency of category (variety within cluster): 39.04%, category clustering: 8.85%\n",
      "cluster: 4 --> top category: V-Bag, frequency of category (variety within cluster): 60.00%, category clustering: 0.81%\n",
      "cluster: 5 --> top category: V-Bag, frequency of category (variety within cluster): 47.62%, category clustering: 1.35%\n",
      "cluster: 6 --> top category: V-Bag, frequency of category (variety within cluster): 33.33%, category clustering: 0.14%\n",
      "cluster: 7 --> top category: V-Bag, frequency of category (variety within cluster): 83.33%, category clustering: 0.68%\n",
      "Overall score (doesn't consider category clustering): 46.69%\n",
      "cluster: 0 --> top category: V-Bag, frequency of category (variety within cluster): 36.94%, category clustering: 29.05%\n",
      "cluster: 1 --> top category: V-Pet, frequency of category (variety within cluster): 37.44%, category clustering: 12.73%\n",
      "cluster: 2 --> top category: V-Bag, frequency of category (variety within cluster): 36.88%, category clustering: 53.38%\n",
      "cluster: 3 --> top category: V-Bag, frequency of category (variety within cluster): 44.87%, category clustering: 4.73%\n",
      "cluster: 4 --> top category: V-Bag, frequency of category (variety within cluster): 37.50%, category clustering: 1.62%\n",
      "cluster: 5 --> top category: V-Pet, frequency of category (variety within cluster): 50.00%, category clustering: 0.62%\n",
      "cluster: 6 --> top category: V-Pet, frequency of category (variety within cluster): 50.00%, category clustering: 0.31%\n",
      "cluster: 7 --> top category: V-Bag, frequency of category (variety within cluster): 100.00%, category clustering: 0.54%\n",
      "cluster: 8 --> top category: V-Bag, frequency of category (variety within cluster): 50.00%, category clustering: 0.14%\n",
      "Overall score (doesn't consider category clustering): 49.29%\n",
      "cluster: 0 --> top category: V-Bag, frequency of category (variety within cluster): 37.07%, category clustering: 29.05%\n",
      "cluster: 1 --> top category: V-Pet, frequency of category (variety within cluster): 35.33%, category clustering: 8.23%\n",
      "cluster: 2 --> top category: V-Bag, frequency of category (variety within cluster): 36.17%, category clustering: 55.68%\n",
      "cluster: 3 --> top category: V-Bag, frequency of category (variety within cluster): 52.17%, category clustering: 1.62%\n",
      "cluster: 4 --> top category: V-Bag, frequency of category (variety within cluster): 60.00%, category clustering: 0.81%\n",
      "cluster: 5 --> top category: V-Bag, frequency of category (variety within cluster): 42.86%, category clustering: 3.65%\n",
      "cluster: 6 --> top category: V-Bag, frequency of category (variety within cluster): 41.67%, category clustering: 1.35%\n",
      "cluster: 7 --> top category: V-Pet, frequency of category (variety within cluster): 50.00%, category clustering: 0.31%\n",
      "cluster: 8 --> top category: V-Bag, frequency of category (variety within cluster): 83.33%, category clustering: 0.68%\n",
      "cluster: 9 --> top category: V-Bag, frequency of category (variety within cluster): 100.00%, category clustering: 0.14%\n",
      "Overall score (doesn't consider category clustering): 53.86%\n",
      "cluster: 0 --> top category: V-Bag, frequency of category (variety within cluster): 36.48%, category clustering: 29.73%\n",
      "cluster: 1 --> top category: V-Bag, frequency of category (variety within cluster): 36.37%, category clustering: 56.08%\n",
      "cluster: 2 --> top category: V-Bag, frequency of category (variety within cluster): 38.10%, category clustering: 6.49%\n",
      "cluster: 3 --> top category: V-Bag, frequency of category (variety within cluster): 60.00%, category clustering: 0.81%\n",
      "cluster: 4 --> top category: V-Pet, frequency of category (variety within cluster): 50.00%, category clustering: 0.93%\n",
      "cluster: 5 --> top category: V-Bag, frequency of category (variety within cluster): 43.75%, category clustering: 3.78%\n",
      "cluster: 6 --> top category: V-Bag, frequency of category (variety within cluster): 47.83%, category clustering: 1.49%\n",
      "cluster: 7 --> top category: V-Pet, frequency of category (variety within cluster): 66.67%, category clustering: 0.62%\n",
      "cluster: 8 --> top category: V-Bag, frequency of category (variety within cluster): 33.33%, category clustering: 0.14%\n",
      "cluster: 9 --> top category: V-Bag, frequency of category (variety within cluster): 54.55%, category clustering: 0.81%\n",
      "cluster: 10 --> top category: V-Bag, frequency of category (variety within cluster): 100.00%, category clustering: 0.14%\n",
      "Overall score (doesn't consider category clustering): 51.55%\n",
      "cluster: 0 --> top category: V-Bag, frequency of category (variety within cluster): 37.22%, category clustering: 29.32%\n",
      "cluster: 1 --> top category: V-Bag, frequency of category (variety within cluster): 33.87%, category clustering: 5.68%\n",
      "cluster: 2 --> top category: V-Bag, frequency of category (variety within cluster): 36.31%, category clustering: 52.16%\n",
      "cluster: 3 --> top category: V-Pet, frequency of category (variety within cluster): 41.30%, category clustering: 5.90%\n",
      "cluster: 4 --> top category: V-Bag, frequency of category (variety within cluster): 60.00%, category clustering: 0.81%\n",
      "cluster: 5 --> top category: V-Bag, frequency of category (variety within cluster): 43.55%, category clustering: 3.65%\n",
      "cluster: 6 --> top category: V-Bag, frequency of category (variety within cluster): 36.67%, category clustering: 1.49%\n",
      "cluster: 7 --> top category: V-Bag, frequency of category (variety within cluster): 45.00%, category clustering: 1.22%\n",
      "cluster: 8 --> top category: V-Pet, frequency of category (variety within cluster): 66.67%, category clustering: 0.62%\n",
      "cluster: 9 --> top category: V-Bag, frequency of category (variety within cluster): 33.33%, category clustering: 0.14%\n",
      "cluster: 10 --> top category: V-Bag, frequency of category (variety within cluster): 83.33%, category clustering: 0.68%\n",
      "cluster: 11 --> top category: V-Bag, frequency of category (variety within cluster): 100.00%, category clustering: 0.14%\n",
      "Overall score (doesn't consider category clustering): 51.44%\n",
      "cluster: 0 --> top category: V-Bag, frequency of category (variety within cluster): 37.44%, category clustering: 29.59%\n",
      "cluster: 1 --> top category: V-Bag, frequency of category (variety within cluster): 32.35%, category clustering: 4.46%\n",
      "cluster: 2 --> top category: V-Bag, frequency of category (variety within cluster): 36.41%, category clustering: 52.70%\n",
      "cluster: 3 --> top category: V-Pet, frequency of category (variety within cluster): 41.30%, category clustering: 5.90%\n",
      "cluster: 4 --> top category: V-Bag, frequency of category (variety within cluster): 60.00%, category clustering: 0.81%\n",
      "cluster: 5 --> top category: V-Pet, frequency of category (variety within cluster): 50.00%, category clustering: 0.93%\n",
      "cluster: 6 --> top category: V-Bag, frequency of category (variety within cluster): 43.55%, category clustering: 3.65%\n",
      "cluster: 7 --> top category: V-Bag, frequency of category (variety within cluster): 36.67%, category clustering: 1.49%\n",
      "cluster: 8 --> top category: V-Bag, frequency of category (variety within cluster): 45.00%, category clustering: 1.22%\n",
      "cluster: 9 --> top category: V-Pet, frequency of category (variety within cluster): 66.67%, category clustering: 0.62%\n",
      "cluster: 10 --> top category: V-Bag, frequency of category (variety within cluster): 33.33%, category clustering: 0.14%\n",
      "cluster: 11 --> top category: V-Bag, frequency of category (variety within cluster): 83.33%, category clustering: 0.68%\n",
      "cluster: 12 --> top category: V-Bag, frequency of category (variety within cluster): 100.00%, category clustering: 0.14%\n",
      "Overall score (doesn't consider category clustering): 51.24%\n",
      "cluster: 0 --> top category: V-Bag, frequency of category (variety within cluster): 38.74%, category clustering: 21.62%\n",
      "cluster: 1 --> top category: V-Pet, frequency of category (variety within cluster): 32.43%, category clustering: 3.73%\n",
      "cluster: 2 --> top category: V-Bag, frequency of category (variety within cluster): 35.68%, category clustering: 32.84%\n",
      "cluster: 3 --> top category: V-Bag, frequency of category (variety within cluster): 37.09%, category clustering: 30.27%\n",
      "cluster: 4 --> top category: V-Pet, frequency of category (variety within cluster): 42.05%, category clustering: 5.75%\n",
      "cluster: 5 --> top category: V-Bag, frequency of category (variety within cluster): 60.00%, category clustering: 0.81%\n",
      "cluster: 6 --> top category: V-Pet, frequency of category (variety within cluster): 50.00%, category clustering: 0.93%\n",
      "cluster: 7 --> top category: V-Bag, frequency of category (variety within cluster): 44.44%, category clustering: 3.24%\n",
      "cluster: 8 --> top category: V-Bag, frequency of category (variety within cluster): 36.67%, category clustering: 1.49%\n",
      "cluster: 9 --> top category: V-Bag, frequency of category (variety within cluster): 45.00%, category clustering: 1.22%\n",
      "cluster: 10 --> top category: V-Pet, frequency of category (variety within cluster): 66.67%, category clustering: 0.62%\n",
      "cluster: 11 --> top category: V-Bag, frequency of category (variety within cluster): 33.33%, category clustering: 0.14%\n",
      "cluster: 12 --> top category: V-Bag, frequency of category (variety within cluster): 100.00%, category clustering: 0.54%\n",
      "cluster: 13 --> top category: V-Bag, frequency of category (variety within cluster): 100.00%, category clustering: 0.14%\n",
      "Overall score (doesn't consider category clustering): 51.58%\n"
     ]
    },
    {
     "data": {
      "image/png": "[encoded data removed]",
      "text/plain": [
       "<matplotlib.figure.Figure at 0x13321c80630>"
      ]
     },
     "metadata": {},
     "output_type": "display_data"
    }
   ],
   "source": [
    "best = [0,0]\n",
    "np.random.seed(23453)\n",
    "for k in range(2, 15):\n",
    "    X_std = batch_std(df_clean, traffic_columns)\n",
    "    y = df_clean['Product']\n",
    "\n",
    "    km = KMeans(n_clusters=k, init='k-means++', n_init=10, n_jobs=4)\n",
    "    km.fit(X_std)\n",
    "    score = check_clusters(y=y, clust_labels=km.labels_)\n",
    "    if score > best[0]:\n",
    "        best = score, k\n",
    "print(best)"
   ]
  }
 ],
 "metadata": {
  "kernelspec": {
   "display_name": "Python 3",
   "language": "python",
   "name": "python3"
  },
  "language_info": {
   "codemirror_mode": {
    "name": "ipython",
    "version": 3
   },
   "file_extension": ".py",
   "mimetype": "text/x-python",
   "name": "python",
   "nbconvert_exporter": "python",
   "pygments_lexer": "ipython3",
   "version": "3.6.0"
  }
 },
 "nbformat": 4,
 "nbformat_minor": 2
}
